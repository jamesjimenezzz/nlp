{
 "cells": [
  {
   "cell_type": "code",
   "execution_count": 2,
   "id": "c687107d-99f4-4b01-8a45-6d271b8e27b8",
   "metadata": {},
   "outputs": [],
   "source": [
    "sentence = \"Her name is Luna\""
   ]
  },
  {
   "cell_type": "code",
   "execution_count": 3,
   "id": "653525b5-00f9-4f77-877e-e35694a086c4",
   "metadata": {},
   "outputs": [],
   "source": [
    "lowered = sentence.lower()"
   ]
  },
  {
   "cell_type": "code",
   "execution_count": 4,
   "id": "d8f533c8-99fe-4d2b-910d-7ce635062a84",
   "metadata": {},
   "outputs": [
    {
     "name": "stdout",
     "output_type": "stream",
     "text": [
      "her name is luna\n"
     ]
    }
   ],
   "source": [
    "print(lowered)"
   ]
  },
  {
   "cell_type": "code",
   "execution_count": 5,
   "id": "598157f7-398e-4566-9165-dfb62c33c152",
   "metadata": {},
   "outputs": [
    {
     "name": "stdout",
     "output_type": "stream",
     "text": [
      "['Could you pass me the TV remote?', 'It is IMPOSSIBLE to find this hotel', 'Want to go for dinner on Tuesday?']\n"
     ]
    }
   ],
   "source": [
    "sentence_list = ['Could you pass me the TV remote?', \n",
    "                 'It is IMPOSSIBLE to find this hotel', \n",
    "                 'Want to go for dinner on Tuesday?']\n",
    "print(sentence_list)\n"
   ]
  },
  {
   "cell_type": "code",
   "execution_count": 6,
   "id": "955ea5ff-c447-45fe-a9da-1e9a4da51b28",
   "metadata": {},
   "outputs": [
    {
     "name": "stdout",
     "output_type": "stream",
     "text": [
      "['could you pass me the tv remote?', 'it is impossible to find this hotel', 'want to go for dinner on tuesday?']\n"
     ]
    }
   ],
   "source": [
    "lowered_sentence_list = [sen.lower() for sen in sentence_list ]\n",
    "print(lowered_sentence_list)"
   ]
  },
  {
   "cell_type": "code",
   "execution_count": null,
   "id": "752e0532-9117-4ad1-b27b-fac5f381806c",
   "metadata": {},
   "outputs": [],
   "source": []
  }
 ],
 "metadata": {
  "kernelspec": {
   "display_name": "Python 3 (ipykernel)",
   "language": "python",
   "name": "python3"
  },
  "language_info": {
   "codemirror_mode": {
    "name": "ipython",
    "version": 3
   },
   "file_extension": ".py",
   "mimetype": "text/x-python",
   "name": "python",
   "nbconvert_exporter": "python",
   "pygments_lexer": "ipython3",
   "version": "3.11.13"
  }
 },
 "nbformat": 4,
 "nbformat_minor": 5
}
